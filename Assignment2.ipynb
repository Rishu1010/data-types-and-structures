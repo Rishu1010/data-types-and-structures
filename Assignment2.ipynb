{
  "nbformat": 4,
  "nbformat_minor": 0,
  "metadata": {
    "colab": {
      "provenance": []
    },
    "kernelspec": {
      "name": "python3",
      "display_name": "Python 3"
    },
    "language_info": {
      "name": "python"
    }
  },
  "cells": [
    {
      "cell_type": "markdown",
      "source": [
        "ASSIGNMENT- 2"
      ],
      "metadata": {
        "id": "yzBpeNGWtaJo"
      }
    },
    {
      "cell_type": "markdown",
      "source": [
        "1. What are data structures, and why are they important?\n",
        "   \n",
        " - Data structures are fundamental ways to organize, manage, and store  data efficiently.\n",
        "   * They are important because they influence the efficiency and speed of algorithms and programs. Choosing the right data structure can significantly impact performance, memory usage, and code maintainability.\n",
        "   * Real-world Programming Solving, where it is useful in tasks like file systems, databases, social, networks,etc.\n",
        "   * Help in Decision Making, choosing the right data structure can improve performance drastically.\n",
        "   \n",
        "   example- List, dict, set,string etc."
      ],
      "metadata": {
        "id": "akdsQEqftdpT"
      }
    },
    {
      "cell_type": "markdown",
      "source": [
        "   2. Explain the difference between mutable and immutable data types with examples.\n",
        "\n",
        "   - Mutable: Mutable data types can be changed after they are created,like lists,dictionaries and sets.\n",
        "   You can add, remove, or modify elements in these data structures after they created.\n",
        "\n",
        "   - Immutable: Immutable data types types can not changed after data types\n",
        "   are created, like string, or a tuples and numbers(integers, floats, etc.). Once you create a string or a tuple, you cannot change its contents. If you want to modify an immutable object, you have to create a new object with the desired changes.\n",
        "\n",
        "\n"
      ],
      "metadata": {
        "id": "WlypK42QtaME"
      }
    },
    {
      "cell_type": "markdown",
      "source": [
        "  3. What is the main difference between lists and tuples in Python?\n",
        "  \n",
        "    -Lists and tuples are both used to store collections of items in Python, but they have a key difference: mutability.\n",
        " * Lists are mutable, meaning you can change their contents after they are created. You can add, remove, or modify elements within a list. Lists are created using square brackets [].\n",
        " * Tuples are immutable, meaning you cannot change their contents after  they are created. Once a tuple is defined, you cannot add, remove, or  modify its elements. Tuples are created using parentheses ().\n",
        "\n",
        "\n",
        "\n"
      ],
      "metadata": {
        "id": "k8bC56rHtaO9"
      }
    },
    {
      "cell_type": "markdown",
      "source": [
        " 4. Describe how dictionaries stores data.\n",
        "\n",
        " - A dictionary in python is a collection of key-value pairs, where each key is unique and is used to access its corresponding value.\n",
        " They stores data as key value pairs, they are used to identify the data.\n",
        " They value is the data associated with that key. It allows for quick access, update and deletion of using keys."
      ],
      "metadata": {
        "id": "8VCeVU0jtaSQ"
      }
    },
    {
      "cell_type": "markdown",
      "source": [
        "   5. Why might you use a set instead of a list in Python?\n",
        "  \n",
        "   - Reason:\n",
        "* No duplicate elements\n",
        "* Faster lookups\n",
        "* Unordered collection\n",
        "* Mathematical operations like union, intersection, etc.\n",
        "* Better for uniqueness checks."
      ],
      "metadata": {
        "id": "TwuAnaZz3pLQ"
      }
    },
    {
      "cell_type": "markdown",
      "source": [
        "  6. What is a string in Python, and how is different from a list?\n",
        "   \n",
        "   - String is a sequence of characters, python treats anything inside quotes as a string. This includes letters, numbers, and symbols. Python has no character data type so single character is a string of length 1.\n",
        "\n",
        "   * Data type: A string stores only characters, but lists can have mixed data types.\n",
        "   * Mutability: Strings are immutable , whereas lists are mutable.\n",
        "   * Element type: Strings can contain only characters, but lists can have mixed data types.\n",
        "   * Modification: You cannot directly change a character in a string, but you can change, add, or remove elements in a list.\n",
        "   * Operations: Strings have text-specific methods, while lists have collection specific methods.\n",
        "   * Representation: Strings are written inside quotes('',\"\"), while lists are written inside square brackets[].\n",
        "   * Usage: Strings are used for text data, while lists are used for storing a sequence of items."
      ],
      "metadata": {
        "id": "trgtsqPv3vsb"
      }
    },
    {
      "cell_type": "markdown",
      "source": [
        "  7. How do tuples ensure data integrity in Python?\n",
        "\n",
        "    -  Tuples ensure data integrity in Python primarily through their immutability. Because tuples cannot be changed after they are created, you can be confident that the data within a tuple will remain exactly as it was when the tuple was defined.\n",
        "    Here's how this helps with data integrity:\n",
        "    *Prevents accidental modification: Once you've created a tuple with specific data, there's no risk of inadvertently changing its contents later in your program. This is especially useful for data that should be constant or read-only.\n",
        "    *Thread safety: In multi-threaded applications, mutable data structures can be problematic because multiple threads might try to modify the same data at the same time, leading to unexpected results. Immutable data structures like tuples are inherently thread-safe because they cannot be changed.\n",
        "    *Used as dictionary keys: Because they are immutable, tuples can be used as keys in dictionaries. Dictionary keys must be immutable to ensure that the hash value (used for quick lookups) remains constant.\n"
      ],
      "metadata": {
        "id": "YpezTS1a6yaN"
      }
    },
    {
      "cell_type": "markdown",
      "source": [
        "   8. What is a hash table , and how does it relate to dictionaries in Python?\n",
        "  \n",
        "  - A hash table, also known as a hash map, is a data structure that implements an associative array, which is a structure that can map keys to values. It uses a hash function to compute an index into an array of buckets or slots, from which the desired value can be found.\n",
        "  Here's how it relates to dictionaries in Python:\n",
        "\n",
        "  * Implementation: Python dictionaries are implemented using hash tables.\n",
        "  * Key-Value Pairs: Just like a hash table stores key-value pairs, a Python dictionary does the same.\n",
        "  * Hashing: When you add a key-value pair to a dictionary, Python's internal hash function calculates a hash value for the key. This hash value is then used to determine where in the underlying hash table the key-value pair should be stored.\n",
        "  * Fast Lookups: The main advantage of using a hash table for dictionaries is that it allows for very fast lookups, insertions, and deletions of elements, on average. When you want to access a value using its key, Python hashes the key again and uses the resulting hash value to quickly find the corresponding value in the hash table.\n"
      ],
      "metadata": {
        "id": "H-JPAzHj7aev"
      }
    },
    {
      "cell_type": "markdown",
      "source": [
        "  9. Can lists contain different data types in Python?\n",
        "    \n",
        "    - Yes, lists in Python can contain different data types in the same list, where a list can hold integers, float, strings, booleans, objects, even other lists- all mixed together.This is possible because Python lists are dynamic and store references to objects, not fixed-type elements."
      ],
      "metadata": {
        "id": "pv8L2dDS9AX4"
      }
    },
    {
      "cell_type": "markdown",
      "source": [
        "  10. Explain why strings are immutable in Python.\n",
        "\n",
        "   - Strings are immutable in Python, which means that once a string object is created, its contents cannot be changed. When you perform an operation that appears to modify a string, Python actually creates a new string object with the desired changes, and the variable is then updated to refer to this new object. The original string object remains unchanged in memory until it's no longer referenced and is eventually garbage collected.\n",
        "   #reasons for this design choice:\n",
        "   *Performance Optimization: Immutability allows for certain performance optimizations. For example, Python can safely share the underlying data of identical strings in memory, which saves space.\n",
        "    *Thread Safety: In a multi-threaded environment, immutable objects are inherently thread-safe because they cannot be modified concurrently by multiple threads, eliminating the need for locks or other synchronization mechanisms.\n",
        "   *Hashability: Immutable objects can be used as keys in dictionaries and elements in sets because their hash value is constant. If strings were mutable, their hash value could change, which would break the lookup mechanism in dictionaries and sets.\n",
        "   *Predictability and Data Integrity: Immutability makes code more predictable and helps maintain data integrity. You can be sure that a string you're working with hasn't been unexpectedly altered by another part of your program."
      ],
      "metadata": {
        "id": "miPjACAx9AUP"
      }
    },
    {
      "cell_type": "markdown",
      "source": [
        "11. What advantages do dictionaries offer over lists for certain tasks?\n",
        "\n",
        " - ADVANTAGES:\n",
        "   * Faster lookups\n",
        "   * Key-based access\n",
        "   * No need for manual searching\n",
        "   * Unordered but organzied.\n",
        "\n"
      ],
      "metadata": {
        "id": "ekPPZxXgAp48"
      }
    },
    {
      "cell_type": "markdown",
      "source": [
        " 12. Describe a scenario where using a tuple would be preferable over a list.\n",
        "   \n",
        "   - Scenario: Representing Coordinates or Fixed Data:\n",
        "\n",
        "     Imagine you're storing geographical coordinates (latitude and longitude) or RGB color values. These are typically fixed sets of values that shouldn't be altered. Using a tuple is ideal here because it clearly signifies that the data is meant to be constant\n",
        "    # Using a tuple for coordinates\n",
        "       location = (34.0522, -118.2437) # Los Angeles coordinates\n",
        "\n",
        "       # Using a tuple for an RGB color\n",
        "       red = (255, 0, 0)\n",
        "\n",
        "       # Using a tuple for a date (year, month, day)\n",
        "       event_date = (2023, 10, 27).\n",
        "       \n",
        "\n"
      ],
      "metadata": {
        "id": "UfQitIIgAw7E"
      }
    },
    {
      "cell_type": "markdown",
      "source": [
        "13. How do sets handle duplicate values in Python?\n",
        "\n",
        "     - Sets in Python are fundamentally defined as unordered collections of unique elements. This means that when you add elements to a set, any duplicate values are automatically discarded.\n",
        "     example-\n",
        "     my_set ={1,4,3,2,2,3,4,5,4,3}\n",
        "     print(my_set)\n",
        "\n",
        "     output:{1,2,3,4,5}\n",
        "     This characteristic of sets makes them very useful for tasks where you need to quickly find the unique elements in a collection or remove duplicates from a list or other iterable.\n"
      ],
      "metadata": {
        "id": "_ccI2XuqCkbi"
      }
    },
    {
      "cell_type": "markdown",
      "source": [
        "  14. How does the “in” keyword work differently for lists and dictionaries?\n",
        "    \n",
        "   - The in keyword in Python is used to check for membership within a collection, but its behavior differs slightly between lists and dictionaries due to how they store and access data.\n",
        "\n",
        "   For Lists:\n",
        "     When you use the in keyword with a list, it checks if an element exists among the values in the list. Python will iterate through the list elements one by one to see if there is a match.\n",
        "     \n",
        "   For Dictionaries:\n",
        "     When you use the in keyword with a dictionary, it checks if a specific key exists within the dictionary's keys. It does not directly check for the presence of a value."
      ],
      "metadata": {
        "id": "xaHPtwE4AwmG"
      }
    },
    {
      "cell_type": "markdown",
      "source": [
        "   15. Can you modify the elements of a tuple? Explain why or why not?\n",
        "\n",
        "     - No, you cannot modify the elements of a tuple after it has been created.\n",
        "      The reason for this is that tuples are immutable data types in Python. Immutability means that the state of the object cannot be changed after it's created.\n",
        "     * If you try to modify an element of a tuple, you will get a TypeError."
      ],
      "metadata": {
        "id": "rSHyXa6cspty"
      }
    },
    {
      "cell_type": "markdown",
      "source": [
        "  16. What is a nested dictionary, and give an example of its use case?\n",
        "\n",
        "   - A nested dictionary is a dictionary where one or more of the values are themselves dictionaries. This allows you to represent hierarchical or more complex data structures.\n",
        "   Here's an example of a use case: Representing data for multiple users.You could have a main dictionary where each key is a username, and the value associated with each username is another dictionary containing information about that user (like their email, age, and city).\n",
        "\n",
        "   user_data = {\n",
        "    'john_doe': {\n",
        "        'email': 'john.doe@example.com',\n",
        "        'age': 30,\n",
        "        'city': 'New York'\n",
        "    },\n",
        "    'jane_smith': {\n",
        "        'email': 'jane.smith@example.com',\n",
        "        'age': 25,\n",
        "        'city': 'London'\n",
        "    },\n",
        "    'peter_jones': {\n",
        "        'email': 'peter.jones@example.com',\n",
        "        'age': 35,\n",
        "        'city': 'Paris'\n",
        "    }\n",
        "}\n",
        "\n",
        "# Accessing data from the nested dictionary\n",
        "print(user_data['john_doe']['email'])\n",
        "print(user_data['jane_smith']['city'])\n",
        "   "
      ],
      "metadata": {
        "id": "GXAFdWqrtdaN"
      }
    },
    {
      "cell_type": "markdown",
      "source": [
        " 17. Describe the time complexity of accessing elements in a dictionary.\n",
        "\n",
        "  - The time complexity of accessing elements in a Python dictionary is, on average, O(1) (constant time).\n",
        "   This means that the time it takes to retrieve a value associated with a key does not significantly increase as the size of the dictionary grows. Regardless of whether the dictionary has 10 items or 10 million items, accessing an element by its key is typically very fast."
      ],
      "metadata": {
        "id": "3ij-FW5Nuk6P"
      }
    },
    {
      "cell_type": "markdown",
      "source": [
        "  18. In what situations are lists preferred over dictionaries?\n",
        "\n",
        "   - Lists are preferred over dictionaries in several situations, primarily when the order of elements matters, or when you need to perform operations based on position rather than a unique key.\n",
        " * Ordered Collections: If the sequence or order of your data is important, a list is the appropriate choice. Dictionaries are inherently unordered (in Python versions before 3.7, and insertion-ordered in 3.7+ but not ordered by key value), so you cannot rely on the position of elements. .\n",
        " *Storing a Collection of Items Where Duplicates are Allowed and Order Matters: If you need to store multiple occurrences of the same item and their position is relevant, a list is necessary. Sets, which are unordered and store only unique elements, or dictionaries, which map unique keys to values, would not be suitable.\n"
      ],
      "metadata": {
        "id": "HNolUFaUvDwh"
      }
    },
    {
      "cell_type": "markdown",
      "source": [
        "  19.  Why are dictionaries considered unordered, and how does that affect data retrieval?\n",
        "\n",
        "   - starting with Python 3.7, dictionaries are officially insertion-ordered. This means that the order in which you add items to a dictionary is preserved, and iteration will follow that order.So, while older versions of Python (before 3.7) treated dictionaries as unordered, newer versions maintain insertion order.\n",
        "\n",
        "     *In older Python versions (pre-3.7): Since the order was not guaranteed, you could not rely on accessing elements by their position or expecting iteration to happen in a specific sequence. Data retrieval was solely based on the key.\n",
        "     *In modern Python versions (3.7+): You can now rely on the insertion order when iterating through a dictionary. This can be convenient for certain tasks where the order of items is relevant. However, the primary way to retrieve data from a dictionary remains by using its key, which is still the most efficient method (O(1) on average).\n"
      ],
      "metadata": {
        "id": "I95W9cWev2RC"
      }
    },
    {
      "cell_type": "markdown",
      "source": [
        "20. Explain the difference between a list and a dictionary in terms of data retrieval.\n",
        "\n",
        " - The main difference between lists and dictionaries in terms of data retrieval lies in how you identify and access the elements:\n",
        "\n",
        " * Lists: Data retrieval in lists is based on position or index. You access elements in a list by their numerical index, which starts from 0 for the first element.\n",
        "\n",
        " - To find a specific value in a list, you would typically need to iterate through the list or use methods like index(), which can take longer as the list grows (O(n) time complexity in the worst case).\n",
        "\n",
        "  *Dictionaries: Data retrieval in dictionaries is based on keys. You access values in a dictionary by providing the associated key."
      ],
      "metadata": {
        "id": "c8UU7CaNxbae"
      }
    },
    {
      "cell_type": "markdown",
      "source": [
        "PRACTICAL SECTION:"
      ],
      "metadata": {
        "id": "xSAYukSFzJOE"
      }
    },
    {
      "cell_type": "code",
      "source": [
        "#Write a code to create a string with your name and print it.\n",
        "\n",
        "name = \"Rishu\"\n",
        "print(name)\n"
      ],
      "metadata": {
        "colab": {
          "base_uri": "https://localhost:8080/"
        },
        "id": "jlm_NAppvDEA",
        "outputId": "6f42a449-f7d4-4a20-f51d-e1fe928cb216"
      },
      "execution_count": 1,
      "outputs": [
        {
          "output_type": "stream",
          "name": "stdout",
          "text": [
            "Rishu\n"
          ]
        }
      ]
    },
    {
      "cell_type": "code",
      "source": [
        "#Write a code to find the length of the string \"Hello World\".\n",
        "\n",
        "string = \"Hello World\"\n",
        "length = len(string)\n",
        "print(length)"
      ],
      "metadata": {
        "colab": {
          "base_uri": "https://localhost:8080/"
        },
        "id": "tqeQw1ui0yLe",
        "outputId": "8848665c-ef97-4d9b-b9fa-619d02a4c479"
      },
      "execution_count": 2,
      "outputs": [
        {
          "output_type": "stream",
          "name": "stdout",
          "text": [
            "11\n"
          ]
        }
      ]
    },
    {
      "cell_type": "code",
      "metadata": {
        "colab": {
          "base_uri": "https://localhost:8080/"
        },
        "id": "653aabbe",
        "outputId": "61e8c19e-1401-4849-dfd3-5e5020a45fbd"
      },
      "source": [
        "# Write a code to slice the first 3 characters from the string \"Python Programming\".\n",
        "\n",
        "string = \"Python Programming\"\n",
        "sliced_string = string[:3]\n",
        "print(sliced_string)"
      ],
      "execution_count": 3,
      "outputs": [
        {
          "output_type": "stream",
          "name": "stdout",
          "text": [
            "Pyt\n"
          ]
        }
      ]
    },
    {
      "cell_type": "code",
      "source": [
        "#Write a code to convert the string \"hello\" to uppercase.\n",
        "\n",
        "string = \"hello\"\n",
        "uppercase_string = string.upper()\n",
        "print(uppercase_string)\n"
      ],
      "metadata": {
        "colab": {
          "base_uri": "https://localhost:8080/"
        },
        "id": "bVn3NIDL1XhN",
        "outputId": "a2954c5f-20dc-455b-8f16-4eaa7d3f0070"
      },
      "execution_count": 4,
      "outputs": [
        {
          "output_type": "stream",
          "name": "stdout",
          "text": [
            "HELLO\n"
          ]
        }
      ]
    },
    {
      "cell_type": "code",
      "source": [
        "#Write a code to replace the word \"apple\" with \"orange\" in the string \"I like apple\".\n",
        "\n",
        "string = \"I like apple\"\n",
        "replaced_string = string.replace(\"apple\", \"orange\")\n",
        "print(replaced_string)\n",
        "#"
      ],
      "metadata": {
        "colab": {
          "base_uri": "https://localhost:8080/"
        },
        "id": "0q6djtpM1yiY",
        "outputId": "41f97642-9af9-40ac-ee02-2d698952e948"
      },
      "execution_count": 5,
      "outputs": [
        {
          "output_type": "stream",
          "name": "stdout",
          "text": [
            "I like orange\n"
          ]
        }
      ]
    },
    {
      "cell_type": "code",
      "source": [
        "#Write a code to create a list with numbers 1 to 5 and print it.\n",
        "\n",
        "num =[1,2,3,4,5]\n",
        "print(num)"
      ],
      "metadata": {
        "colab": {
          "base_uri": "https://localhost:8080/"
        },
        "id": "7H0Lzacy2GVJ",
        "outputId": "382fa7b1-faaf-4189-9350-9ec128174a5b"
      },
      "execution_count": 6,
      "outputs": [
        {
          "output_type": "stream",
          "name": "stdout",
          "text": [
            "[1, 2, 3, 4, 5]\n"
          ]
        }
      ]
    },
    {
      "cell_type": "code",
      "source": [
        "#Write a code to append the number 10 to the list [1, 2, 3, 4].\n",
        "\n",
        "num = [1,2,3,4,5]\n",
        "num.append(10)\n",
        "print(num)"
      ],
      "metadata": {
        "colab": {
          "base_uri": "https://localhost:8080/"
        },
        "id": "tMK6qU_r2cYh",
        "outputId": "df27e52d-6e6e-43fb-9b43-87e44f67b02f"
      },
      "execution_count": 7,
      "outputs": [
        {
          "output_type": "stream",
          "name": "stdout",
          "text": [
            "[1, 2, 3, 4, 5, 10]\n"
          ]
        }
      ]
    },
    {
      "cell_type": "code",
      "source": [
        "#Write a code to remove the number 3 from the list [1, 2, 3, 4, 5].\n",
        "\n",
        "num = [1,2,3,4,5]\n",
        "num.remove(3)\n",
        "print(num)"
      ],
      "metadata": {
        "colab": {
          "base_uri": "https://localhost:8080/"
        },
        "id": "jcblVY0C23y4",
        "outputId": "e6404854-fddf-46ce-f89f-b08bf06a37f1"
      },
      "execution_count": 8,
      "outputs": [
        {
          "output_type": "stream",
          "name": "stdout",
          "text": [
            "[1, 2, 4, 5]\n"
          ]
        }
      ]
    },
    {
      "cell_type": "code",
      "source": [
        "#Write a code to access the second element in the list ['a', 'b', 'c', 'd'].\n",
        "\n",
        "my_list = ['a', 'b', 'c', 'd']\n",
        "second_element = my_list[1]\n",
        "print(second_element)\n"
      ],
      "metadata": {
        "colab": {
          "base_uri": "https://localhost:8080/"
        },
        "id": "1VR9qy6E3SOA",
        "outputId": "ada8a55b-d247-4ca8-9422-061852eda1e8"
      },
      "execution_count": 9,
      "outputs": [
        {
          "output_type": "stream",
          "name": "stdout",
          "text": [
            "b\n"
          ]
        }
      ]
    },
    {
      "cell_type": "code",
      "source": [
        "# Write a code to reverse the list [10, 20, 30, 40, 50].\n",
        "\n",
        "my_list = [10, 20, 30, 40, 50]\n",
        "reversed_list = my_list[::-1]\n",
        "print(reversed_list)"
      ],
      "metadata": {
        "colab": {
          "base_uri": "https://localhost:8080/"
        },
        "id": "gmStiIN-3dA5",
        "outputId": "cf7d87bd-311c-4468-d358-d7166e15f7af"
      },
      "execution_count": 10,
      "outputs": [
        {
          "output_type": "stream",
          "name": "stdout",
          "text": [
            "[50, 40, 30, 20, 10]\n"
          ]
        }
      ]
    },
    {
      "cell_type": "code",
      "source": [
        "#Write a code to create a tuple with the elements 100, 200, 300 and print it.\n",
        "\n",
        "my_tuple = (100, 200, 300)\n",
        "print(my_tuple)"
      ],
      "metadata": {
        "colab": {
          "base_uri": "https://localhost:8080/"
        },
        "id": "Li1IyS3x3lCZ",
        "outputId": "9d2a927e-e930-4e7d-e6d5-6d314e348411"
      },
      "execution_count": 11,
      "outputs": [
        {
          "output_type": "stream",
          "name": "stdout",
          "text": [
            "(100, 200, 300)\n"
          ]
        }
      ]
    },
    {
      "cell_type": "code",
      "source": [
        "#Write a code to access the second-to-last element of the tuple ('red', 'green', 'blue', 'yellow').\n",
        "\n",
        "my_tuple = ('red', 'green', 'blue', 'yellow')\n",
        "last_element = my_tuple[-2]\n",
        "print(last_element)"
      ],
      "metadata": {
        "colab": {
          "base_uri": "https://localhost:8080/"
        },
        "id": "mducwSn03rcy",
        "outputId": "a09633cb-e3f3-49c4-cbd9-c1cdd69ab5c6"
      },
      "execution_count": 13,
      "outputs": [
        {
          "output_type": "stream",
          "name": "stdout",
          "text": [
            "blue\n"
          ]
        }
      ]
    },
    {
      "cell_type": "code",
      "source": [
        "#Write a code to find the minimum number in the tuple (10, 20, 5, 15).\n",
        "\n",
        "my_tuple = (10, 20, 5, 15)\n",
        "minimum_number = min(my_tuple)\n",
        "print(minimum_number)"
      ],
      "metadata": {
        "colab": {
          "base_uri": "https://localhost:8080/"
        },
        "id": "i21cAGLv338e",
        "outputId": "dd654761-60c6-4bae-aafc-3355b77bec38"
      },
      "execution_count": 14,
      "outputs": [
        {
          "output_type": "stream",
          "name": "stdout",
          "text": [
            "5\n"
          ]
        }
      ]
    },
    {
      "cell_type": "code",
      "source": [
        "# Write a code to find the index of the element \"cat\" in the tuple ('dog', 'cat', 'rabbit').\n",
        "\n",
        "my_tuple = ('dog', 'cat', 'rabbit')\n",
        "index_of_cat = my_tuple.index('cat')\n",
        "print(index_of_cat)"
      ],
      "metadata": {
        "colab": {
          "base_uri": "https://localhost:8080/"
        },
        "id": "YJXFm63Q4F_N",
        "outputId": "ea333147-0787-4cf3-c362-1604b9b0caf4"
      },
      "execution_count": 15,
      "outputs": [
        {
          "output_type": "stream",
          "name": "stdout",
          "text": [
            "1\n"
          ]
        }
      ]
    },
    {
      "cell_type": "code",
      "source": [
        "# Write a code to create a tuple containing three different fruits and check if \"kiwi\" is in it.\n",
        "\n",
        "fruits_tuple = ('apple', 'banana', 'orange')\n",
        "is_kiwi_in_tuple = 'kiwi' in fruits_tuple\n",
        "print(is_kiwi_in_tuple)"
      ],
      "metadata": {
        "colab": {
          "base_uri": "https://localhost:8080/"
        },
        "id": "ugPNHaQP4M7w",
        "outputId": "fcbd3117-4efe-4ee9-c8d7-4a345023e1ab"
      },
      "execution_count": 16,
      "outputs": [
        {
          "output_type": "stream",
          "name": "stdout",
          "text": [
            "False\n"
          ]
        }
      ]
    },
    {
      "cell_type": "code",
      "source": [
        "#Write a code to create a set with the elements 'a', 'b', 'c' and print it.\n",
        "\n",
        "my_set = {'a', 'b', 'c'}\n",
        "print(my_set)"
      ],
      "metadata": {
        "colab": {
          "base_uri": "https://localhost:8080/"
        },
        "id": "uzhWaHfD4ZBE",
        "outputId": "14c9e29e-93e1-4c62-e81c-b724cb6659d4"
      },
      "execution_count": 17,
      "outputs": [
        {
          "output_type": "stream",
          "name": "stdout",
          "text": [
            "{'b', 'a', 'c'}\n"
          ]
        }
      ]
    },
    {
      "cell_type": "code",
      "source": [
        "#Write a code to clear all elements from the set {1, 2, 3, 4, 5}.\n",
        "\n",
        "my_set = {1, 2, 3, 4, 5}\n",
        "my_set.clear()\n",
        "print(my_set)"
      ],
      "metadata": {
        "colab": {
          "base_uri": "https://localhost:8080/"
        },
        "id": "fhNgCWg84fhv",
        "outputId": "97647a7c-f16e-4177-e272-0566c30990d4"
      },
      "execution_count": 18,
      "outputs": [
        {
          "output_type": "stream",
          "name": "stdout",
          "text": [
            "set()\n"
          ]
        }
      ]
    },
    {
      "cell_type": "code",
      "source": [
        "# Write a code to remove the element 4 from the set {1, 2, 3, 4}.\n",
        "\n",
        "my_set = {1, 2, 3, 4}\n",
        "my_set.remove(4)\n",
        "print(my_set)\n",
        "#"
      ],
      "metadata": {
        "colab": {
          "base_uri": "https://localhost:8080/"
        },
        "id": "_N8g0EH-4l9P",
        "outputId": "fd92706f-fcf6-4510-c2a1-85fa3f9b4ab7"
      },
      "execution_count": 19,
      "outputs": [
        {
          "output_type": "stream",
          "name": "stdout",
          "text": [
            "{1, 2, 3}\n"
          ]
        }
      ]
    },
    {
      "cell_type": "code",
      "source": [
        "# Write a code to find the union of two sets {1, 2, 3} and {3, 4, 5}.\n",
        "\n",
        "set1 = {1, 2, 3}\n",
        "set2 = {3, 4, 5}\n",
        "union_set = set1.union(set2)\n",
        "print(union_set)\n",
        "#"
      ],
      "metadata": {
        "colab": {
          "base_uri": "https://localhost:8080/"
        },
        "id": "kvaVG_tB4rQt",
        "outputId": "83a2b7c3-b4cb-4243-ed59-2e9469ab2c97"
      },
      "execution_count": 20,
      "outputs": [
        {
          "output_type": "stream",
          "name": "stdout",
          "text": [
            "{1, 2, 3, 4, 5}\n"
          ]
        }
      ]
    },
    {
      "cell_type": "code",
      "source": [
        "#Write a code to find the intersection of two sets {1, 2, 3} and {2, 3, 4}.\n",
        "\n",
        "set1 = {1, 2, 3}\n",
        "set2 = {2, 3, 4}\n",
        "intersection_set = set1.intersection(set2)\n",
        "print(intersection_set)\n",
        "#"
      ],
      "metadata": {
        "colab": {
          "base_uri": "https://localhost:8080/"
        },
        "id": "TLxOjJl14ya9",
        "outputId": "5d2ad213-9ee6-4141-ebbe-e4ec8c8ad76e"
      },
      "execution_count": 21,
      "outputs": [
        {
          "output_type": "stream",
          "name": "stdout",
          "text": [
            "{2, 3}\n"
          ]
        }
      ]
    },
    {
      "cell_type": "code",
      "source": [
        "# Write a code to create a dictionary with the keys \"name\", \"age\", and \"city\", and print it.\n",
        "\n",
        "my_dict = {\n",
        "    \"name\": \"Rishu\",\n",
        "    \"age\": 25,\n",
        "    \"city\": \"Prayagraj\"\n",
        "}\n",
        "print(my_dict)"
      ],
      "metadata": {
        "colab": {
          "base_uri": "https://localhost:8080/"
        },
        "id": "pFMcqO6W48U0",
        "outputId": "f4069c4e-d361-4cc3-ac24-9806b6ba1422"
      },
      "execution_count": 22,
      "outputs": [
        {
          "output_type": "stream",
          "name": "stdout",
          "text": [
            "{'name': 'Rishu', 'age': 25, 'city': 'Prayagraj'}\n"
          ]
        }
      ]
    },
    {
      "cell_type": "code",
      "source": [
        "# Write a code to add a new key-value pair \"country\": \"USA\" to the dictionary {'name': 'John', 'age': 25}.\n",
        "\n",
        "my_dict = {'name': 'John', 'age': 25}\n",
        "my_dict['country'] = 'USA'\n",
        "print(my_dict)\n",
        "#"
      ],
      "metadata": {
        "colab": {
          "base_uri": "https://localhost:8080/"
        },
        "id": "crMfu3M45GOr",
        "outputId": "d650f803-e155-4563-f58c-ccf925e0215c"
      },
      "execution_count": 23,
      "outputs": [
        {
          "output_type": "stream",
          "name": "stdout",
          "text": [
            "{'name': 'John', 'age': 25, 'country': 'USA'}\n"
          ]
        }
      ]
    },
    {
      "cell_type": "code",
      "source": [
        "#Write a code to access the value associated with the key \"name\" in the dictionary {'name': 'Alice', 'age': 30}.\n",
        "\n",
        "my_dict = {'name': 'Alice', 'age': 30}\n",
        "name_value = my_dict['name']\n",
        "print(name_value)\n",
        "#"
      ],
      "metadata": {
        "colab": {
          "base_uri": "https://localhost:8080/"
        },
        "id": "SXg48ein5Lbd",
        "outputId": "08f7afb1-0b00-456f-e0a4-a9f2f0fcec99"
      },
      "execution_count": 24,
      "outputs": [
        {
          "output_type": "stream",
          "name": "stdout",
          "text": [
            "Alice\n"
          ]
        }
      ]
    },
    {
      "cell_type": "code",
      "source": [
        "#Write a code to remove the key \"age\" from the dictionary {'name': 'Bob', 'age': 22, 'city': 'New York'}.\n",
        "\n",
        "my_dict = {'name': 'Bob', 'age': 22, 'city': 'New York'}\n",
        "del my_dict['age']\n",
        "print(my_dict)\n"
      ],
      "metadata": {
        "colab": {
          "base_uri": "https://localhost:8080/"
        },
        "id": "-i_kuQTe5Ub1",
        "outputId": "8a649d28-2c08-4ee5-9954-0aecbfb7442b"
      },
      "execution_count": 25,
      "outputs": [
        {
          "output_type": "stream",
          "name": "stdout",
          "text": [
            "{'name': 'Bob', 'city': 'New York'}\n"
          ]
        }
      ]
    },
    {
      "cell_type": "code",
      "source": [
        "#Write a code to check if the key \"city\" exists in the dictionary {'name': 'Alice', 'city': 'Paris'}.\n",
        "\n",
        "my_dict = {'name': 'Alice', 'city': 'Paris'}\n",
        "city_exists = 'city' in my_dict\n",
        "print(city_exists)\n"
      ],
      "metadata": {
        "colab": {
          "base_uri": "https://localhost:8080/"
        },
        "id": "ZYBmz52c5bIa",
        "outputId": "6ea778ea-d9da-4089-db5f-17f41bc61eb5"
      },
      "execution_count": 26,
      "outputs": [
        {
          "output_type": "stream",
          "name": "stdout",
          "text": [
            "True\n"
          ]
        }
      ]
    },
    {
      "cell_type": "code",
      "source": [
        "#write a code to create a list, a tuple, and a dictionary, and print them all.\n",
        "\n",
        "my_list = [1, 2, 3, 4, 5]\n",
        "my_tuple = (10, 20, 30, 40, 50)\n",
        "my_dict = {'name': 'rishu', 'age': 22}\n",
        "print(\"List:\", my_list)\n",
        "print(\"Tuple:\", my_tuple)\n",
        "print(\"Dictionary:\", my_dict)"
      ],
      "metadata": {
        "colab": {
          "base_uri": "https://localhost:8080/"
        },
        "id": "BaNDi8cI5qLn",
        "outputId": "b44be927-1971-4d07-df98-6632de267566"
      },
      "execution_count": 32,
      "outputs": [
        {
          "output_type": "stream",
          "name": "stdout",
          "text": [
            "List: [1, 2, 3, 4, 5]\n",
            "Tuple: (10, 20, 30, 40, 50)\n",
            "Dictionary: {'name': 'rishu', 'age': 22}\n"
          ]
        }
      ]
    },
    {
      "cell_type": "code",
      "source": [
        "#Write a code to create a list of 5 random numbers between 1 and 100, sort it in ascending order, and print the result.(replaced).\n",
        "\n",
        "import random\n",
        "random_numbers = [random.randint(1, 100) for _ in range(5)]\n",
        "random_numbers.sort()\n",
        "print(random_numbers)\n",
        "\n"
      ],
      "metadata": {
        "colab": {
          "base_uri": "https://localhost:8080/"
        },
        "id": "c6DaqTkE6CxD",
        "outputId": "9f57dd03-4e98-4edc-840e-aeabf6545b4e"
      },
      "execution_count": 33,
      "outputs": [
        {
          "output_type": "stream",
          "name": "stdout",
          "text": [
            "[5, 13, 25, 30, 34]\n"
          ]
        }
      ]
    },
    {
      "cell_type": "code",
      "source": [
        "#Write a code to create a list with strings and print the element at the third index.\n",
        "\n",
        "my_list = ['apple', 'banana', 'cherry', 'date', 'elderberry']\n",
        "third_element = my_list[2]\n",
        "print(third_element)\n",
        "#"
      ],
      "metadata": {
        "colab": {
          "base_uri": "https://localhost:8080/"
        },
        "id": "8bFtZTm76ZMV",
        "outputId": "aa785477-19a8-4937-cb5e-d71f969e3146"
      },
      "execution_count": 34,
      "outputs": [
        {
          "output_type": "stream",
          "name": "stdout",
          "text": [
            "cherry\n"
          ]
        }
      ]
    },
    {
      "cell_type": "code",
      "source": [
        "#Write a code to combine two dictionaries into one and print the result.\n",
        "\n",
        "dict1 = {'a': 1, 'b': 2}\n",
        "dict2 = {'c': 3, 'd': 4}\n",
        "combined_dict = {**dict1, **dict2}\n",
        "print(combined_dict)\n"
      ],
      "metadata": {
        "colab": {
          "base_uri": "https://localhost:8080/"
        },
        "id": "3e-Mij4l6e3D",
        "outputId": "58bc2090-5a5a-4306-f668-63b9fbb73224"
      },
      "execution_count": 35,
      "outputs": [
        {
          "output_type": "stream",
          "name": "stdout",
          "text": [
            "{'a': 1, 'b': 2, 'c': 3, 'd': 4}\n"
          ]
        }
      ]
    },
    {
      "cell_type": "code",
      "source": [
        "# Write a code to convert a list of strings into a set.\n",
        "\n",
        "my_list = ['apple', 'banana', 'cherry', 'apple', 'banana']\n",
        "my_set = set(my_list)\n",
        "print(my_set)\n"
      ],
      "metadata": {
        "colab": {
          "base_uri": "https://localhost:8080/"
        },
        "id": "IVlxmq3q6pGQ",
        "outputId": "1dc18151-c160-4c65-960d-0dbc71c95542"
      },
      "execution_count": 36,
      "outputs": [
        {
          "output_type": "stream",
          "name": "stdout",
          "text": [
            "{'banana', 'apple', 'cherry'}\n"
          ]
        }
      ]
    },
    {
      "cell_type": "markdown",
      "source": [
        "#THANKYOU!!"
      ],
      "metadata": {
        "id": "uYdplaZ1637d"
      }
    },
    {
      "cell_type": "code",
      "source": [],
      "metadata": {
        "id": "ozRQyvLD62vt"
      },
      "execution_count": null,
      "outputs": []
    }
  ]
}